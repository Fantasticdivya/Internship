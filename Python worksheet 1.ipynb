{
 "cells": [
  {
   "cell_type": "markdown",
   "id": "2aeadb88",
   "metadata": {},
   "source": [
    "11. Write a python program to find the factorial of a number"
   ]
  },
  {
   "cell_type": "code",
   "execution_count": 4,
   "id": "43c12930",
   "metadata": {},
   "outputs": [
    {
     "name": "stdout",
     "output_type": "stream",
     "text": [
      "Enter a number: 10\n",
      "Factorial of the given number is:  3628800\n"
     ]
    }
   ],
   "source": [
    "number = int (input (\"Enter a number: \"))\n",
    "factorial = 1\n",
    "if number >= 1:\n",
    "    for i in range (1, number+1):\n",
    "        factorial=factorial *i\n",
    "print(\"Factorial of the given number is: \", factorial)"
   ]
  },
  {
   "cell_type": "markdown",
   "id": "858eed89",
   "metadata": {},
   "source": [
    "12. Write a python program to find whether a number is prime or composite."
   ]
  },
  {
   "cell_type": "code",
   "execution_count": 13,
   "id": "7f4dc872",
   "metadata": {},
   "outputs": [
    {
     "name": "stdout",
     "output_type": "stream",
     "text": [
      "Enter any Number : 37\n",
      "37 is Prime Number\n"
     ]
    }
   ],
   "source": [
    "number =int(input(\"Enter any Number : \"))\n",
    "count=0\n",
    "for a in range(2,num):\n",
    "    if number%a==0:\n",
    "        count+=1\n",
    "if count>=1:\n",
    "    print(number, \"is Composite Number\")\n",
    "else:\n",
    "    print(number, \"is Prime Number\")"
   ]
  },
  {
   "cell_type": "markdown",
   "id": "079e9f2e",
   "metadata": {},
   "source": [
    "13. Write a python program to check if a string is palindrome or not."
   ]
  },
  {
   "cell_type": "code",
   "execution_count": 19,
   "id": "40b30998",
   "metadata": {},
   "outputs": [],
   "source": [
    "#Not able to solve this."
   ]
  },
  {
   "cell_type": "markdown",
   "id": "c7a18d73",
   "metadata": {},
   "source": [
    "14. write a python program to get the third side of right-angled triangle from two given sides"
   ]
  },
  {
   "cell_type": "code",
   "execution_count": 23,
   "id": "b5f78499",
   "metadata": {},
   "outputs": [
    {
     "name": "stdout",
     "output_type": "stream",
     "text": [
      "Enter base: 8\n",
      "Enter height: 15\n",
      "Enter angle: 90\n",
      "Hypotenuse = 17.0\n"
     ]
    }
   ],
   "source": [
    "import math\n",
    "\n",
    "a = int(input(\"Enter base: \"))\n",
    "b = int(input(\"Enter height: \"))\n",
    "x = int(input(\"Enter angle: \"))\n",
    "\n",
    "c = math.sqrt(a ** 2 + b ** 2)\n",
    "\n",
    "print(\"Hypotenuse =\", c)"
   ]
  },
  {
   "cell_type": "markdown",
   "id": "28d6a35a",
   "metadata": {},
   "source": [
    "15. write a python program to print the frequency of each of a charcater present in a given string"
   ]
  },
  {
   "cell_type": "code",
   "execution_count": 25,
   "id": "dc3b1ec7",
   "metadata": {},
   "outputs": [
    {
     "name": "stdout",
     "output_type": "stream",
     "text": [
      "L: 1, e: 2, a: 2, r: 2, n: 3, i: 2, n: 3, g: 2,  : 3, p: 1, y: 1, t: 2, h: 1, o: 1, n: 3,  : 3, i: 2, s: 1,  : 3, g: 2, r: 2, e: 2, a: 2, t: 2, "
     ]
    }
   ],
   "source": [
    "string = \"Learning python is great\"\n",
    "\n",
    "for i in string:\n",
    "    frequency = string.count(i)\n",
    "    print(str(i) + \": \" + str(frequency), end=\", \")"
   ]
  },
  {
   "cell_type": "code",
   "execution_count": null,
   "id": "dd7f4959",
   "metadata": {},
   "outputs": [],
   "source": []
  }
 ],
 "metadata": {
  "kernelspec": {
   "display_name": "Python 3 (ipykernel)",
   "language": "python",
   "name": "python3"
  },
  "language_info": {
   "codemirror_mode": {
    "name": "ipython",
    "version": 3
   },
   "file_extension": ".py",
   "mimetype": "text/x-python",
   "name": "python",
   "nbconvert_exporter": "python",
   "pygments_lexer": "ipython3",
   "version": "3.11.5"
  }
 },
 "nbformat": 4,
 "nbformat_minor": 5
}
