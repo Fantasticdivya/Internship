{
 "cells": [
  {
   "cell_type": "markdown",
   "id": "15404e4c",
   "metadata": {},
   "source": [
    "Question 1- Write a Python program to replace all occurrences of a space, comma, or dot with a colon."
   ]
  },
  {
   "cell_type": "code",
   "execution_count": 2,
   "id": "76eeebf8",
   "metadata": {},
   "outputs": [
    {
     "name": "stdout",
     "output_type": "stream",
     "text": [
      "Python:Exercises::PHP:exercises:\n"
     ]
    }
   ],
   "source": [
    "import re\n",
    "Sample_Text = 'Python Exercises, PHP exercises.'\n",
    "result = re.sub(r'[ ,.]', ':', Sample_Text)\n",
    "print(result)"
   ]
  },
  {
   "cell_type": "markdown",
   "id": "8aaf26e2",
   "metadata": {},
   "source": [
    "Question 2-  Create a dataframe using the dictionary below and remove everything (commas (,), !, XXXX, ;, etc.) from the columns except words."
   ]
  },
  {
   "cell_type": "code",
   "execution_count": 3,
   "id": "f4e26b87",
   "metadata": {},
   "outputs": [
    {
     "name": "stdout",
     "output_type": "stream",
     "text": [
      "            SUMMARY\n",
      "0       hello world\n",
      "1              test\n",
      "2  123four five six\n"
     ]
    }
   ],
   "source": [
    "import pandas as pd\n",
    "\n",
    "dict = {'SUMMARY': ['hello world!', 'XXXXX test', '123four five:; six...']}\n",
    "df = pd.DataFrame(dict)\n",
    "\n",
    "df['SUMMARY'] = df['SUMMARY'].apply(lambda x: re.sub(r'[^\\w\\s]', '', x).replace('XXXXX', '').strip())\n",
    "print(df)\n"
   ]
  },
  {
   "cell_type": "markdown",
   "id": "d4e9e942",
   "metadata": {},
   "source": [
    "Question 3- Create a function in python to find all words that are at least 4 characters long in a string. The use of the re.compile() method is mandatory."
   ]
  },
  {
   "cell_type": "code",
   "execution_count": 5,
   "id": "e6c964e8",
   "metadata": {},
   "outputs": [
    {
     "name": "stdout",
     "output_type": "stream",
     "text": [
      "['This', 'sample', 'string', 'check', 'four', 'letter', 'characters']\n"
     ]
    }
   ],
   "source": [
    "def find_min_four_character_words(string):\n",
    "    pattern = re.compile(r'\\b\\w{4,}\\b')\n",
    "    return pattern.findall(string)\n",
    "\n",
    "string = \"This is a sample string to check all four letter characters\"\n",
    "print(find_min_four_character_words(string))\n"
   ]
  },
  {
   "cell_type": "markdown",
   "id": "706a7bec",
   "metadata": {},
   "source": [
    "Question 4- Create a function in python to find all three, four, and five character words in a string. The use of the re.compile() method is mandatory."
   ]
  },
  {
   "cell_type": "code",
   "execution_count": 6,
   "id": "934002dd",
   "metadata": {},
   "outputs": [
    {
     "name": "stdout",
     "output_type": "stream",
     "text": [
      "['This', 'find', 'words', 'with', 'three', 'four', 'five']\n"
     ]
    }
   ],
   "source": [
    "def find_three_four_five_length_words(string):\n",
    "    pattern = re.compile(r'\\b\\w{3,5}\\b')\n",
    "    return pattern.findall(string)\n",
    "\n",
    "string = \"This is a string to find words with length three, four, or five.\"\n",
    "print(find_three_four_five_length_words(string))\n"
   ]
  },
  {
   "cell_type": "markdown",
   "id": "63065fd9",
   "metadata": {},
   "source": [
    "Question 5- Create a function in Python to remove the parenthesis in a list of strings. The use of the re.compile() method is mandatory."
   ]
  },
  {
   "cell_type": "code",
   "execution_count": 7,
   "id": "d7724d10",
   "metadata": {},
   "outputs": [
    {
     "name": "stdout",
     "output_type": "stream",
     "text": [
      "['example', 'hr@fliprobo', 'github', 'Hello', 'Data']\n"
     ]
    }
   ],
   "source": [
    "def remove_parenthesis(text_list):\n",
    "    pattern = re.compile(r'\\s*\\(.*?\\)\\s*')\n",
    "    return [pattern.sub('', text).strip() for text in text_list]\n",
    "\n",
    "sample_text = [\"example (.com)\", \"hr@fliprobo (.com)\", \"github (.com)\", \"Hello (Data Science World)\", \"Data (Scientist)\"]\n",
    "print(remove_parenthesis(sample_text))\n"
   ]
  },
  {
   "cell_type": "markdown",
   "id": "4608d3ea",
   "metadata": {},
   "source": [
    "Question 6- Write a python program to remove the parenthesis area from the text stored in the text file using Regular Expression."
   ]
  },
  {
   "cell_type": "code",
   "execution_count": 8,
   "id": "1a217bb9",
   "metadata": {},
   "outputs": [
    {
     "name": "stdout",
     "output_type": "stream",
     "text": [
      "['example', 'hr@fliprobo', 'github', 'Hello', 'Data']\n"
     ]
    }
   ],
   "source": [
    "def remove_parenthesis_from_file(input_file, output_file):\n",
    "    with open(input_file, 'r') as file:\n",
    "        text = file.read()\n",
    "    \n",
    "    pattern = re.compile(r'\\s*\\(.*?\\)\\s*')\n",
    "    cleaned_text = pattern.sub('', text)\n",
    "    \n",
    "    with open(output_file, 'w') as file:\n",
    "        file.write(cleaned_text)\n",
    "\n",
    "sample_text = [\"example (.com)\", \"hr@fliprobo (.com)\", \"github (.com)\", \"Hello (Data Science World)\", \"Data (Scientist)\"]\n",
    "with open('sample.txt', 'w') as f:\n",
    "    f.write(str(sample_text))\n",
    "\n",
    "remove_parenthesis_from_file('sample.txt', 'cleaned_sample.txt')\n",
    "\n",
    "with open('cleaned_sample.txt', 'r') as f:\n",
    "    print(f.read())\n"
   ]
  },
  {
   "cell_type": "markdown",
   "id": "62966dd3",
   "metadata": {},
   "source": [
    "Question 7- Write a regular expression in Python to split a string into uppercase letters."
   ]
  },
  {
   "cell_type": "code",
   "execution_count": 9,
   "id": "b1e08207",
   "metadata": {},
   "outputs": [
    {
     "name": "stdout",
     "output_type": "stream",
     "text": [
      "['Importance', 'Of', 'Regular', 'Expressions', 'In', 'Python']\n"
     ]
    }
   ],
   "source": [
    "text = \"ImportanceOfRegularExpressionsInPython\"\n",
    "result = re.findall('[A-Z][^A-Z]*', text)\n",
    "print(result)\n"
   ]
  },
  {
   "cell_type": "markdown",
   "id": "e1b119be",
   "metadata": {},
   "source": [
    "Question 8- Create a function in python to insert spaces between words starting with numbers."
   ]
  },
  {
   "cell_type": "code",
   "execution_count": 10,
   "id": "22ce69f5",
   "metadata": {},
   "outputs": [
    {
     "name": "stdout",
     "output_type": "stream",
     "text": [
      "RegularExpression 1IsAn 2ImportantTopic 3InPython\n"
     ]
    }
   ],
   "source": [
    "def insert_spaces_numbers(text):\n",
    "    return re.sub(r'(\\d+)', r' \\1', text)\n",
    "\n",
    "text = \"RegularExpression1IsAn2ImportantTopic3InPython\"\n",
    "print(insert_spaces_numbers(text))\n"
   ]
  },
  {
   "cell_type": "markdown",
   "id": "6e606b3d",
   "metadata": {},
   "source": [
    "Question 9- Create a function in python to insert spaces between words starting with capital letters or with numbers."
   ]
  },
  {
   "cell_type": "code",
   "execution_count": 11,
   "id": "d76ced55",
   "metadata": {},
   "outputs": [
    {
     "name": "stdout",
     "output_type": "stream",
     "text": [
      "Regular Expression 1 Is An 2 Important Topic 3 In Python\n"
     ]
    }
   ],
   "source": [
    "def insert_spaces_caps_numbers(text):\n",
    "    return re.sub(r'([A-Z0-9])', r' \\1', text).strip()\n",
    "\n",
    "text = \"RegularExpression1IsAn2ImportantTopic3InPython\"\n",
    "print(insert_spaces_caps_numbers(text))\n"
   ]
  },
  {
   "cell_type": "markdown",
   "id": "fca741bc",
   "metadata": {},
   "source": [
    "Question 10- Use the github link below to read the data and create a dataframe. After creating the dataframe extract the first 6 letters of each country and store in the dataframe under a new column called first_five_letters."
   ]
  },
  {
   "cell_type": "code",
   "execution_count": 15,
   "id": "dc90067e",
   "metadata": {},
   "outputs": [
    {
     "name": "stdout",
     "output_type": "stream",
     "text": [
      "       Country first_six_letters\n",
      "0  Switzerland            Switze\n",
      "1      Iceland            Icelan\n",
      "2      Denmark            Denmar\n",
      "3       Norway            Norway\n",
      "4       Canada            Canada\n"
     ]
    }
   ],
   "source": [
    "url = 'https://raw.githubusercontent.com/dsrscientist/DSData/master/happiness_score_dataset.csv'\n",
    "df = pd.read_csv(url)\n",
    "\n",
    "df['first_six_letters'] = df['Country'].apply(lambda x: x[:6])\n",
    "print(df[['Country', 'first_six_letters']].head())\n"
   ]
  },
  {
   "cell_type": "markdown",
   "id": "a15be031",
   "metadata": {},
   "source": [
    "Question 11- Write a Python program to match a string that contains only upper and lowercase letters, numbers, and underscores."
   ]
  },
  {
   "cell_type": "code",
   "execution_count": 16,
   "id": "87211b6e",
   "metadata": {},
   "outputs": [
    {
     "name": "stdout",
     "output_type": "stream",
     "text": [
      "True\n"
     ]
    }
   ],
   "source": [
    "def match_string(text):\n",
    "    pattern = re.compile(r'^\\w+$')\n",
    "    return bool(pattern.match(text))\n",
    "\n",
    "text = \"Valid_String123\"\n",
    "print(match_string(text))"
   ]
  },
  {
   "cell_type": "markdown",
   "id": "172b234c",
   "metadata": {},
   "source": [
    "Question 12- Write a Python program where a string will start with a specific number. "
   ]
  },
  {
   "cell_type": "code",
   "execution_count": 17,
   "id": "a99ea84e",
   "metadata": {},
   "outputs": [
    {
     "name": "stdout",
     "output_type": "stream",
     "text": [
      "True\n"
     ]
    }
   ],
   "source": [
    "def starts_with_specific_number(text, number):\n",
    "    pattern = re.compile(r'^' + re.escape(str(number)))\n",
    "    return bool(pattern.match(text))\n",
    "\n",
    "text = \"42 is the answer to everything.\"\n",
    "print(starts_with_specific_number(text, 42))"
   ]
  },
  {
   "cell_type": "markdown",
   "id": "235fbd67",
   "metadata": {},
   "source": [
    "Question 13- Write a Python program to remove leading zeros from an IP address"
   ]
  },
  {
   "cell_type": "code",
   "execution_count": 19,
   "id": "7191adbc",
   "metadata": {},
   "outputs": [
    {
     "name": "stdout",
     "output_type": "stream",
     "text": [
      "192.168.1.1\n"
     ]
    }
   ],
   "source": [
    "def remove_leading_zeros(ip):\n",
    "    return re.sub(r'\\b0+(\\d)', r'\\1', ip)\n",
    "\n",
    "ip = \"192.168.001.001\"\n",
    "print(remove_leading_zeros(ip))"
   ]
  },
  {
   "cell_type": "markdown",
   "id": "67c73ea6",
   "metadata": {},
   "source": [
    "Question 14- Write a regular expression in python to match a date string in the form of Month name followed by day number and year stored in a text file."
   ]
  },
  {
   "cell_type": "code",
   "execution_count": 20,
   "id": "c6c286f0",
   "metadata": {},
   "outputs": [
    {
     "name": "stdout",
     "output_type": "stream",
     "text": [
      "August 15th 1947\n"
     ]
    }
   ],
   "source": [
    "def extract_date(input_file):\n",
    "    with open(input_file, 'r') as file:\n",
    "        text = file.read()\n",
    "    \n",
    "    pattern = re.compile(r'\\b(?:January|February|March|April|May|June|July|August|September|October|November|December) \\d{1,2}(?:st|nd|rd|th) \\d{4}\\b')\n",
    "    match = pattern.search(text)\n",
    "    return match.group() if match else None\n",
    "\n",
    "sample_text = \"On August 15th 1947 that India was declared independent from British colonialism and the reins of control were handed over to the leaders of the Country.\"\n",
    "with open('sample_text.txt', 'w') as f:\n",
    "    f.write(sample_text)\n",
    "\n",
    "print(extract_date('sample_text.txt'))"
   ]
  },
  {
   "cell_type": "markdown",
   "id": "52d6ec43",
   "metadata": {},
   "source": [
    "Question 15- Write a Python program to search some literals strings in a string. "
   ]
  },
  {
   "cell_type": "code",
   "execution_count": 21,
   "id": "4740e8c5",
   "metadata": {},
   "outputs": [
    {
     "name": "stdout",
     "output_type": "stream",
     "text": [
      "['fox', 'dog']\n"
     ]
    }
   ],
   "source": [
    "def search_literals(text, words):\n",
    "    pattern = re.compile('|'.join(map(re.escape, words)))\n",
    "    return pattern.findall(text)\n",
    "\n",
    "text = 'The quick brown fox jumps over the lazy dog.'\n",
    "words = ['fox', 'dog', 'horse']\n",
    "print(search_literals(text, words))"
   ]
  },
  {
   "cell_type": "markdown",
   "id": "669d10cf",
   "metadata": {},
   "source": [
    "Question 16- Write a Python program to search a literals string in a string and also find the location within the original string where the pattern occurs."
   ]
  },
  {
   "cell_type": "code",
   "execution_count": 22,
   "id": "f94d2f54",
   "metadata": {},
   "outputs": [
    {
     "name": "stdout",
     "output_type": "stream",
     "text": [
      "('fox', 16)\n"
     ]
    }
   ],
   "source": [
    "def search_literal_with_location(text, word):\n",
    "    pattern = re.compile(re.escape(word))\n",
    "    match = pattern.search(text)\n",
    "    return (match.group(), match.start()) if match else None\n",
    "\n",
    "text = 'The quick brown fox jumps over the lazy dog.'\n",
    "word = 'fox'\n",
    "print(search_literal_with_location(text, word))"
   ]
  },
  {
   "cell_type": "markdown",
   "id": "e446d1ca",
   "metadata": {},
   "source": [
    "Question 17- Write a Python program to find the substrings within a string."
   ]
  },
  {
   "cell_type": "code",
   "execution_count": 24,
   "id": "17c3c968",
   "metadata": {},
   "outputs": [
    {
     "name": "stdout",
     "output_type": "stream",
     "text": [
      "[('exercises', 7), ('exercises', 21), ('exercises', 34)]\n"
     ]
    }
   ],
   "source": [
    "def find_substrings(text, pattern):\n",
    "    compiled_pattern = re.compile(re.escape(pattern))\n",
    "    return [(match.group(), match.start()) for match in compiled_pattern.finditer(text)]\n",
    "\n",
    "text = 'Python exercises PHP exercises C# exercises'\n",
    "pattern = 'exercises'\n",
    "print(find_substrings(text, pattern))"
   ]
  },
  {
   "cell_type": "markdown",
   "id": "8d3fe8ea",
   "metadata": {},
   "source": [
    "Question 18- Write a Python program to find the occurrence and position of the substrings within a string."
   ]
  },
  {
   "cell_type": "code",
   "execution_count": 25,
   "id": "d089c12e",
   "metadata": {},
   "outputs": [
    {
     "name": "stdout",
     "output_type": "stream",
     "text": [
      "[(7, 16), (21, 30), (34, 43)]\n"
     ]
    }
   ],
   "source": [
    "def find_occurrences(text, substring):\n",
    "    pattern = re.compile(re.escape(substring))\n",
    "    return [(match.start(), match.end()) for match in pattern.finditer(text)]\n",
    "\n",
    "text = 'Python exercises PHP exercises C# exercises'\n",
    "substring = 'exercises'\n",
    "print(find_occurrences(text, substring))"
   ]
  },
  {
   "cell_type": "markdown",
   "id": "a8532bf3",
   "metadata": {},
   "source": [
    "Question 19- Write a Python program to convert a date of yyyy-mm-dd format to dd-mm-yyyy format."
   ]
  },
  {
   "cell_type": "code",
   "execution_count": 26,
   "id": "2ef1d5d2",
   "metadata": {},
   "outputs": [
    {
     "name": "stdout",
     "output_type": "stream",
     "text": [
      "04-07-2023\n"
     ]
    }
   ],
   "source": [
    "def convert_date_format(date):\n",
    "    return re.sub(r'(\\d{4})-(\\d{2})-(\\d{2})', r'\\3-\\2-\\1', date)\n",
    "\n",
    "date = '2023-07-04'\n",
    "print(convert_date_format(date))"
   ]
  },
  {
   "cell_type": "markdown",
   "id": "55f6b430",
   "metadata": {},
   "source": [
    "Question 20- Create a function in python to find all decimal numbers with a precision of 1 or 2 in a string. The use of the re.compile() method is mandatory."
   ]
  },
  {
   "cell_type": "code",
   "execution_count": 27,
   "id": "95b56588",
   "metadata": {},
   "outputs": [
    {
     "name": "stdout",
     "output_type": "stream",
     "text": [
      "['01.12', '145.8', '3.01', '27.25', '0.25']\n"
     ]
    }
   ],
   "source": [
    "def find_decimal_numbers(text):\n",
    "    pattern = re.compile(r'\\b\\d+\\.\\d{1,2}\\b')\n",
    "    return pattern.findall(text)\n",
    "\n",
    "text = \"01.12 0132.123 2.31875 145.8 3.01 27.25 0.25\"\n",
    "print(find_decimal_numbers(text))"
   ]
  },
  {
   "cell_type": "markdown",
   "id": "473c5926",
   "metadata": {},
   "source": [
    "Question 21- Write a Python program to separate and print the numbers and their position of a given string."
   ]
  },
  {
   "cell_type": "code",
   "execution_count": 28,
   "id": "95d55792",
   "metadata": {},
   "outputs": [
    {
     "name": "stdout",
     "output_type": "stream",
     "text": [
      "[('100', 12), ('20', 44)]\n"
     ]
    }
   ],
   "source": [
    "def separate_numbers_positions(text):\n",
    "    pattern = re.compile(r'\\d+')\n",
    "    return [(match.group(), match.start()) for match in pattern.finditer(text)]\n",
    "\n",
    "text = 'The cost is 100 dollars and the discount is 20 percent.'\n",
    "print(separate_numbers_positions(text))"
   ]
  },
  {
   "cell_type": "markdown",
   "id": "879b1e5a",
   "metadata": {},
   "source": [
    "Question 22- Write a regular expression in python program to extract maximum/largest numeric value from a string."
   ]
  },
  {
   "cell_type": "code",
   "execution_count": 29,
   "id": "a45e7366",
   "metadata": {},
   "outputs": [
    {
     "name": "stdout",
     "output_type": "stream",
     "text": [
      "950\n"
     ]
    }
   ],
   "source": [
    "def extract_max_number(text):\n",
    "    numbers = list(map(int, re.findall(r'\\d+', text)))\n",
    "    return max(numbers) if numbers else None\n",
    "\n",
    "text = 'My marks in each semester are: 947 896 926 524 734 950 642'\n",
    "print(extract_max_number(text))"
   ]
  },
  {
   "cell_type": "markdown",
   "id": "618866aa",
   "metadata": {},
   "source": [
    "Question 23- Create a function in python to insert spaces between words starting with capital letters."
   ]
  },
  {
   "cell_type": "code",
   "execution_count": 30,
   "id": "20248f8c",
   "metadata": {},
   "outputs": [
    {
     "name": "stdout",
     "output_type": "stream",
     "text": [
      "Regular Expression Is An Important Topic In Python\n"
     ]
    }
   ],
   "source": [
    "def insert_spaces_capitals(text):\n",
    "    return re.sub(r'([A-Z])', r' \\1', text).strip()\n",
    "\n",
    "text = \"RegularExpressionIsAnImportantTopicInPython\"\n",
    "print(insert_spaces_capitals(text))"
   ]
  },
  {
   "cell_type": "markdown",
   "id": "61317e35",
   "metadata": {},
   "source": [
    "Question 24- Python regex to find sequences of one upper case letter followed by lower case letters"
   ]
  },
  {
   "cell_type": "code",
   "execution_count": 31,
   "id": "bb28a8d4",
   "metadata": {},
   "outputs": [
    {
     "name": "stdout",
     "output_type": "stream",
     "text": [
      "['Regular', 'Expressions', 'Are', 'Fun']\n"
     ]
    }
   ],
   "source": [
    "def find_sequences(text):\n",
    "    pattern = re.compile(r'[A-Z][a-z]+')\n",
    "    return pattern.findall(text)\n",
    "\n",
    "text = \"RegularExpressionsAreFun\"\n",
    "print(find_sequences(text))"
   ]
  },
  {
   "cell_type": "markdown",
   "id": "27dde7e2",
   "metadata": {},
   "source": [
    "Question 25- Write a Python program to remove continuous duplicate words from Sentence using Regular Expression."
   ]
  },
  {
   "cell_type": "code",
   "execution_count": 32,
   "id": "91a6a844",
   "metadata": {},
   "outputs": [
    {
     "name": "stdout",
     "output_type": "stream",
     "text": [
      "Hello world\n"
     ]
    }
   ],
   "source": [
    "def remove_duplicate_words(sentence):\n",
    "    pattern = re.compile(r'\\b(\\w+)\\s+\\1\\b', re.IGNORECASE)\n",
    "    return pattern.sub(r'\\1', sentence)\n",
    "\n",
    "sentence = \"Hello hello world world\"\n",
    "print(remove_duplicate_words(sentence))"
   ]
  },
  {
   "cell_type": "markdown",
   "id": "4d4e3962",
   "metadata": {},
   "source": [
    "Question 26-  Write a python program using RegEx to accept string ending with alphanumeric character."
   ]
  },
  {
   "cell_type": "code",
   "execution_count": 33,
   "id": "fd66f0eb",
   "metadata": {},
   "outputs": [
    {
     "name": "stdout",
     "output_type": "stream",
     "text": [
      "True\n"
     ]
    }
   ],
   "source": [
    "def ends_with_alphanumeric(text):\n",
    "    pattern = re.compile(r'[a-zA-Z0-9]$')\n",
    "    return bool(pattern.search(text))\n",
    "\n",
    "text = \"Hello123\"\n",
    "print(ends_with_alphanumeric(text))"
   ]
  },
  {
   "cell_type": "markdown",
   "id": "f8b1d1c1",
   "metadata": {},
   "source": [
    "Question 27-Write a python program using RegEx to extract the hashtags."
   ]
  },
  {
   "cell_type": "code",
   "execution_count": 35,
   "id": "e67e5f2b",
   "metadata": {},
   "outputs": [
    {
     "name": "stdout",
     "output_type": "stream",
     "text": [
      "['#Doltiwal', '#xyzabc', '#Demonetization']\n"
     ]
    }
   ],
   "source": [
    "def extract_hashtags(text):\n",
    "    pattern = re.compile(r'#\\w+')\n",
    "    return pattern.findall(text)\n",
    "\n",
    "text = \"\"\"RT @kapil_kausik: #Doltiwal I mean #xyzabc is \"hurt\" by #Demonetization as the same has rendered USELESS <ed><U+00A0><U+00BD><ed><U+00B1><U+0089> \"acquired funds\" No wo\"\"\"\n",
    "print(extract_hashtags(text))"
   ]
  },
  {
   "cell_type": "markdown",
   "id": "210a766a",
   "metadata": {},
   "source": [
    "Question 28- Write a python program using RegEx to remove <U+..> like symbols\n",
    "Check the below sample text, there are strange symbols something of the sort <U+..> all over the place. You need to come up with a general Regex expression that will cover all such symbols."
   ]
  },
  {
   "cell_type": "code",
   "execution_count": 36,
   "id": "01525c6c",
   "metadata": {},
   "outputs": [
    {
     "name": "stdout",
     "output_type": "stream",
     "text": [
      "@Jags123456 Bharat band on 28??<ed><ed>Those who  are protesting #demonetization  are all different party leaders\n"
     ]
    }
   ],
   "source": [
    "def remove_symbols(text):\n",
    "    pattern = re.compile(r'<U\\+\\w{4}>')\n",
    "    return pattern.sub('', text)\n",
    "\n",
    "text = \"@Jags123456 Bharat band on 28??<ed><U+00A0><U+00BD><ed><U+00B8><U+0082>Those who  are protesting #demonetization  are all different party leaders\"\n",
    "print(remove_symbols(text))"
   ]
  },
  {
   "cell_type": "markdown",
   "id": "079841fd",
   "metadata": {},
   "source": [
    "Question 29- Write a python program to extract dates from the text stored in the text file.."
   ]
  },
  {
   "cell_type": "code",
   "execution_count": 38,
   "id": "e8f36696",
   "metadata": {},
   "outputs": [
    {
     "name": "stdout",
     "output_type": "stream",
     "text": [
      "['12-09-1992', '15-12-1999']\n"
     ]
    }
   ],
   "source": [
    "def extract_dates_from_file(input_file):\n",
    "    with open(input_file, 'r') as file:\n",
    "        text = file.read()\n",
    "    \n",
    "    pattern = re.compile(r'\\b\\d{2}-\\d{2}-\\d{4}\\b')\n",
    "    return pattern.findall(text)\n",
    "\n",
    "sample_text = \"Ron was born on 12-09-1992 and he was admitted to school 15-12-1999.\"\n",
    "with open('dates_sample.txt', 'w') as f:\n",
    "    f.write(sample_text)\n",
    "\n",
    "print(extract_dates_from_file('dates_sample.txt'))"
   ]
  },
  {
   "cell_type": "raw",
   "id": "b33e1f5e",
   "metadata": {},
   "source": [
    "Question 30- Create a function in python to remove all words from a string of length between 2 and 4.\n",
    "The use of the re.compile() method is mandatory."
   ]
  },
  {
   "cell_type": "code",
   "execution_count": 39,
   "id": "b0f1f173",
   "metadata": {},
   "outputs": [
    {
     "name": "stdout",
     "output_type": "stream",
     "text": [
      " following example creates  ArrayList  a capacity   elements. 4 elements   added   ArrayList   ArrayList  trimmed accordingly.\n"
     ]
    }
   ],
   "source": [
    "def remove_short_words(text):\n",
    "    pattern = re.compile(r'\\b\\w{2,4}\\b')\n",
    "    return pattern.sub('', text)\n",
    "\n",
    "text = \"The following example creates an ArrayList with a capacity of 50 elements. 4 elements are then added to the ArrayList and the ArrayList is trimmed accordingly.\"\n",
    "print(remove_short_words(text))"
   ]
  },
  {
   "cell_type": "code",
   "execution_count": null,
   "id": "c8f6d4c5",
   "metadata": {},
   "outputs": [],
   "source": []
  }
 ],
 "metadata": {
  "kernelspec": {
   "display_name": "Python 3 (ipykernel)",
   "language": "python",
   "name": "python3"
  },
  "language_info": {
   "codemirror_mode": {
    "name": "ipython",
    "version": 3
   },
   "file_extension": ".py",
   "mimetype": "text/x-python",
   "name": "python",
   "nbconvert_exporter": "python",
   "pygments_lexer": "ipython3",
   "version": "3.11.5"
  }
 },
 "nbformat": 4,
 "nbformat_minor": 5
}
