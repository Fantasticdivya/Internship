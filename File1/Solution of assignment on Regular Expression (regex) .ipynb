{
 "cells": [
  {
   "cell_type": "markdown",
   "id": "bb35df89",
   "metadata": {},
   "source": [
    "Question 1- Write a Python program to replace all occurrences of a space, comma, or dot with a colon."
   ]
  },
  {
   "cell_type": "code",
   "execution_count": 2,
   "id": "a43c45c8",
   "metadata": {},
   "outputs": [
    {
     "name": "stdout",
     "output_type": "stream",
     "text": [
      "Python:Exercises::PHP:exercises:\n"
     ]
    }
   ],
   "source": [
    "import re\n",
    "Sample_Text = 'Python Exercises, PHP exercises.'\n",
    "result = re.sub(r'[ ,.]', ':', Sample_Text)\n",
    "print(result)"
   ]
  },
  {
   "cell_type": "markdown",
   "id": "6ccfad6a",
   "metadata": {},
   "source": [
    "Question 2-  Create a dataframe using the dictionary below and remove everything (commas (,), !, XXXX, ;, etc.) from the columns except words."
   ]
  },
  {
   "cell_type": "code",
   "execution_count": 3,
   "id": "fb54a33e",
   "metadata": {},
   "outputs": [
    {
     "name": "stdout",
     "output_type": "stream",
     "text": [
      "            SUMMARY\n",
      "0       hello world\n",
      "1              test\n",
      "2  123four five six\n"
     ]
    }
   ],
   "source": [
    "import pandas as pd\n",
    "dict =  {'SUMMARY' : ['hello, world!', 'XXXXX test', '123four, five:; six...']}\n",
    "df = pd.DataFrame(dict)\n",
    "\n",
    "df['SUMMARY'] = df['SUMMARY'].apply(lambda x: re.sub(r'[^\\w\\s]', '', x).replace('XXXXX', '').strip())\n",
    "print(df)\n"
   ]
  },
  {
   "cell_type": "markdown",
   "id": "803ab88f",
   "metadata": {},
   "source": [
    "Question 3- Create a function in python to find all words that are at least 4 characters long in a string. The use of the re.compile() method is mandatory."
   ]
  },
  {
   "cell_type": "code",
   "execution_count": 4,
   "id": "628ce16c",
   "metadata": {},
   "outputs": [
    {
     "name": "stdout",
     "output_type": "stream",
     "text": [
      "['This', 'sample', 'string', 'check', 'four', 'letter', 'characters']\n"
     ]
    }
   ],
   "source": [
    "def find_min_four_character_words(string):\n",
    "    pattern = re.compile(r'\\b\\w{4,}\\b')\n",
    "    return pattern.findall(string)\n",
    "\n",
    "string = \"This is a sample string to check all four letter characters\"\n",
    "print(find_min_four_character_words(string))"
   ]
  },
  {
   "cell_type": "markdown",
   "id": "3405bfec",
   "metadata": {},
   "source": [
    "Question 4- Create a function in python to find all three, four, and five character words in a string. The use of the re.compile() method is mandatory."
   ]
  },
  {
   "cell_type": "code",
   "execution_count": 5,
   "id": "9a611a62",
   "metadata": {},
   "outputs": [
    {
     "name": "stdout",
     "output_type": "stream",
     "text": [
      "['This', 'find', 'words', 'with', 'three', 'four', 'five']\n"
     ]
    }
   ],
   "source": [
    "def find_three_four_five_length_words(string):\n",
    "    pattern = re.compile(r'\\b\\w{3,5}\\b')\n",
    "    return pattern.findall(string)\n",
    "\n",
    "string = \"This is a string to find words with length three, four, or five.\"\n",
    "print(find_three_four_five_length_words(string))\n"
   ]
  },
  {
   "cell_type": "markdown",
   "id": "54fec53a",
   "metadata": {},
   "source": [
    "Question 5- Create a function in Python to remove the parenthesis in a list of strings. The use of the re.compile() method is mandatory."
   ]
  },
  {
   "cell_type": "markdown",
   "id": "df477290",
   "metadata": {},
   "source": [
    "Not able to solve this question"
   ]
  },
  {
   "cell_type": "markdown",
   "id": "bd98fa73",
   "metadata": {},
   "source": [
    "Question 6- Write a python program to remove the parenthesis area from the text stored in the text file using Regular Expression."
   ]
  },
  {
   "cell_type": "markdown",
   "id": "6d91dfc8",
   "metadata": {},
   "source": [
    "Not able to solve this question"
   ]
  },
  {
   "cell_type": "markdown",
   "id": "51cf0f47",
   "metadata": {},
   "source": [
    "Question 7- Write a regular expression in Python to split a string into uppercase letters."
   ]
  },
  {
   "cell_type": "code",
   "execution_count": 14,
   "id": "4e123da2",
   "metadata": {},
   "outputs": [
    {
     "name": "stdout",
     "output_type": "stream",
     "text": [
      "['Importance', 'Of', 'Regular', 'Expressions', 'In', 'Python']\n"
     ]
    }
   ],
   "source": [
    "sample_text = \"ImportanceOfRegularExpressionsInPython\"\n",
    "result = re.findall('[A-Z][^A-Z]*', sample_text)\n",
    "print(result)"
   ]
  },
  {
   "cell_type": "markdown",
   "id": "61b298b4",
   "metadata": {},
   "source": [
    "Question 8- Create a function in python to insert spaces between words starting with numbers."
   ]
  },
  {
   "cell_type": "code",
   "execution_count": 19,
   "id": "c48b0f32",
   "metadata": {},
   "outputs": [
    {
     "name": "stdout",
     "output_type": "stream",
     "text": [
      "RegularExpression1 IsAn2 ImportantTopic3 InPython\n"
     ]
    }
   ],
   "source": [
    "def insert_spaces(sample_text):\n",
    "  \"\"\"\n",
    "  Inserts spaces between words starting with numbers in a string.\n",
    "\n",
    "  Args:\n",
    "      sample_text: The input string.\n",
    "\n",
    "  Returns:\n",
    "      The modified string with spaces inserted.\n",
    "  \"\"\"\n",
    "  return re.sub(r\"(\\d)([^\\d\\s])\", r\"\\1 \\2\", sample_text)\n",
    "\n",
    "sample_text = \"RegularExpression1IsAn2ImportantTopic3InPython\"\n",
    "modified_text = insert_spaces(sample_text)\n",
    "print(modified_text)"
   ]
  },
  {
   "cell_type": "markdown",
   "id": "637c642a",
   "metadata": {},
   "source": [
    "Question 9- Create a function in python to insert spaces between words starting with capital letters or with numbers."
   ]
  },
  {
   "cell_type": "code",
   "execution_count": 20,
   "id": "fa399299",
   "metadata": {},
   "outputs": [
    {
     "name": "stdout",
     "output_type": "stream",
     "text": [
      "Regular Expression 1 Is An 2 Important Topic 3 In Python\n"
     ]
    }
   ],
   "source": [
    "def insert_spaces_with_capitalletter_or_numbers(sample_text):\n",
    "    return re.sub(r'([A-Z0-9])', r' \\1', sample_text).strip()\n",
    "\n",
    "sample_text = \"RegularExpression1IsAn2ImportantTopic3InPython\"\n",
    "print(insert_spaces_with_capitalletter_or_numbers(sample_text))"
   ]
  },
  {
   "cell_type": "markdown",
   "id": "c2819d6c",
   "metadata": {},
   "source": [
    "Question 10- Use the github link below to read the data and create a dataframe. After creating the dataframe extract the first 6 letters of each country and store in the dataframe under a new column called first_five_letters."
   ]
  },
  {
   "cell_type": "code",
   "execution_count": 21,
   "id": "9361d2fe",
   "metadata": {},
   "outputs": [
    {
     "name": "stdout",
     "output_type": "stream",
     "text": [
      "       Country first_six_letters_of_each_country\n",
      "0  Switzerland                            Switze\n",
      "1      Iceland                            Icelan\n",
      "2      Denmark                            Denmar\n",
      "3       Norway                            Norway\n",
      "4       Canada                            Canada\n"
     ]
    }
   ],
   "source": [
    "url = 'https://raw.githubusercontent.com/dsrscientist/DSData/master/happiness_score_dataset.csv'\n",
    "df = pd.read_csv(url)\n",
    "\n",
    "df['first_six_letters_of_each_country'] = df['Country'].apply(lambda x: x[:6])\n",
    "print(df[['Country', 'first_six_letters_of_each_country']].head())\n"
   ]
  },
  {
   "cell_type": "markdown",
   "id": "0b8e1e73",
   "metadata": {},
   "source": [
    "Question 11- Write a Python program to match a string that contains only upper and lowercase letters, numbers, and underscores."
   ]
  },
  {
   "cell_type": "code",
   "execution_count": 22,
   "id": "64f7249a",
   "metadata": {},
   "outputs": [
    {
     "name": "stdout",
     "output_type": "stream",
     "text": [
      "True\n"
     ]
    }
   ],
   "source": [
    "def match_string(sample_text):\n",
    "    pattern = re.compile(r'^\\w+$')\n",
    "    return bool(pattern.match(sample_text))\n",
    "\n",
    "sample_text = \"Divya_Dubey_Is_Intelligent123\"\n",
    "print(match_string(sample_text))"
   ]
  },
  {
   "cell_type": "markdown",
   "id": "671065ab",
   "metadata": {},
   "source": [
    "Question 12- Write a Python program where a string will start with a specific number. "
   ]
  },
  {
   "cell_type": "code",
   "execution_count": 23,
   "id": "3514a987",
   "metadata": {},
   "outputs": [
    {
     "name": "stdout",
     "output_type": "stream",
     "text": [
      "True\n"
     ]
    }
   ],
   "source": [
    "def starts_with_a_specific_number(sample_text, number):\n",
    "    pattern = re.compile(r'^' + re.escape(str(number)))\n",
    "    return bool(pattern.match(sample_text))\n",
    "\n",
    "sample_text = \"1947 is the year of independendance for India\"\n",
    "print(starts_with_a_specific_number(sample_text, 1947))"
   ]
  },
  {
   "cell_type": "markdown",
   "id": "ee1735fa",
   "metadata": {},
   "source": [
    "Question 13- Write a Python program to remove leading zeros from an IP address"
   ]
  },
  {
   "cell_type": "code",
   "execution_count": 24,
   "id": "0998830e",
   "metadata": {},
   "outputs": [
    {
     "name": "stdout",
     "output_type": "stream",
     "text": [
      "192.168.1.1\n"
     ]
    }
   ],
   "source": [
    "def remove_leading_zeros_from_ip(ip_address):\n",
    "    return re.sub(r'\\b0+(\\d)', r'\\1', ip_address)\n",
    "\n",
    "ip_address = \"192.168.001.001\"\n",
    "print(remove_leading_zeros_from_ip(ip_address))"
   ]
  },
  {
   "cell_type": "markdown",
   "id": "b34cfafe",
   "metadata": {},
   "source": [
    "Question 14- Write a regular expression in python to match a date string in the form of Month name followed by day number and year stored in a text file."
   ]
  },
  {
   "cell_type": "markdown",
   "id": "e6292f5f",
   "metadata": {},
   "source": [
    "Not able to solve this question"
   ]
  },
  {
   "cell_type": "markdown",
   "id": "702d5886",
   "metadata": {},
   "source": [
    "Question 15- Write a Python program to search some literals strings in a string.  "
   ]
  },
  {
   "cell_type": "markdown",
   "id": "7e8529df",
   "metadata": {},
   "source": [
    "Not able to solve this question"
   ]
  },
  {
   "cell_type": "markdown",
   "id": "6f6b862e",
   "metadata": {},
   "source": [
    "Question 16- Write a Python program to search a literals string in a string and also find the location within the original string where the pattern occurs"
   ]
  },
  {
   "cell_type": "code",
   "execution_count": 30,
   "id": "5268471d",
   "metadata": {},
   "outputs": [
    {
     "name": "stdout",
     "output_type": "stream",
     "text": [
      "('fox', 16)\n"
     ]
    }
   ],
   "source": [
    "def search_literal_with_location(sample_text, word):\n",
    "    pattern = re.compile(re.escape(word))\n",
    "    match = pattern.search(sample_text)\n",
    "    return (match.group(), match.start()) if match else None\n",
    "\n",
    "sample_text = 'The quick brown fox jumps over the lazy dog.'\n",
    "word = 'fox'\n",
    "print(search_literal_with_location(sample_text, word))"
   ]
  },
  {
   "cell_type": "markdown",
   "id": "69fc9d58",
   "metadata": {},
   "source": [
    "Question 17- Write a Python program to find the substrings within a string."
   ]
  },
  {
   "cell_type": "code",
   "execution_count": 31,
   "id": "ff2a332e",
   "metadata": {},
   "outputs": [
    {
     "name": "stdout",
     "output_type": "stream",
     "text": [
      "[('exercises', 7), ('exercises', 21), ('exercises', 34)]\n"
     ]
    }
   ],
   "source": [
    "def find_substrings(sample_text, pattern):\n",
    "    compiled_pattern = re.compile(re.escape(pattern))\n",
    "    return [(match.group(), match.start()) for match in compiled_pattern.finditer(sample_text)]\n",
    "\n",
    "sample_text = 'Python exercises PHP exercises C# exercises'\n",
    "pattern = 'exercises'\n",
    "print(find_substrings(sample_text, pattern))"
   ]
  },
  {
   "cell_type": "markdown",
   "id": "ad445e60",
   "metadata": {},
   "source": [
    "Question 18- Write a Python program to find the occurrence and position of the substrings within a string."
   ]
  },
  {
   "cell_type": "code",
   "execution_count": 33,
   "id": "fa7d17cb",
   "metadata": {},
   "outputs": [
    {
     "name": "stdout",
     "output_type": "stream",
     "text": [
      "[(7, 16), (21, 30), (34, 43)]\n"
     ]
    }
   ],
   "source": [
    "def find_occurrences(string, substring):\n",
    "    pattern = re.compile(re.escape(substring))\n",
    "    return [(match.start(), match.end()) for match in pattern.finditer(string)]\n",
    "\n",
    "string = 'Python exercises PHP exercises C# exercises'\n",
    "substring = 'exercises'\n",
    "print(find_occurrences(string, substring))"
   ]
  },
  {
   "cell_type": "markdown",
   "id": "e4279a8c",
   "metadata": {},
   "source": [
    "Question 19- Write a Python program to convert a date of yyyy-mm-dd format to dd-mm-yyyy format."
   ]
  },
  {
   "cell_type": "code",
   "execution_count": 34,
   "id": "bb3d5ec2",
   "metadata": {},
   "outputs": [
    {
     "name": "stdout",
     "output_type": "stream",
     "text": [
      "06-07-2024\n"
     ]
    }
   ],
   "source": [
    "def convert_date_to_ddmmyyyy(date):\n",
    "    return re.sub(r'(\\d{4})-(\\d{2})-(\\d{2})', r'\\3-\\2-\\1', date)\n",
    "\n",
    "date = '2024-07-06'\n",
    "print(convert_date_to_ddmmyyyy(date))"
   ]
  },
  {
   "cell_type": "markdown",
   "id": "97c3d9c7",
   "metadata": {},
   "source": [
    "Question 20- Create a function in python to find all decimal numbers with a precision of 1 or 2 in a string. The use of the re.compile() method is mandatory."
   ]
  },
  {
   "cell_type": "code",
   "execution_count": 36,
   "id": "b11e3a17",
   "metadata": {},
   "outputs": [
    {
     "name": "stdout",
     "output_type": "stream",
     "text": [
      "['01.12', '145.8', '3.01', '27.25', '0.25']\n"
     ]
    }
   ],
   "source": [
    "def find_decimal_numbers_with_a_precision(sample_text):\n",
    "    pattern = re.compile(r'\\b\\d+\\.\\d{1,2}\\b')\n",
    "    return pattern.findall(sample_text)\n",
    "\n",
    "sample_text = \"01.12 0132.123 2.31875 145.8 3.01 27.25 0.25\"\n",
    "print(find_decimal_numbers_with_a_precision(sample_text))"
   ]
  },
  {
   "cell_type": "markdown",
   "id": "7adf21d7",
   "metadata": {},
   "source": [
    "Question 21- Write a Python program to separate and print the numbers and their position of a given string"
   ]
  },
  {
   "cell_type": "code",
   "execution_count": 39,
   "id": "820e6598",
   "metadata": {},
   "outputs": [
    {
     "name": "stdout",
     "output_type": "stream",
     "text": [
      "[('1857', 34), ('15', 107), ('1947', 110)]\n"
     ]
    }
   ],
   "source": [
    "def separate_numbers_and_their_positions(sample_text):\n",
    "    pattern = re.compile(r'\\d+')\n",
    "    return [(match.group(), match.start()) for match in pattern.finditer(sample_text)]\n",
    "\n",
    "sample_text = 'It began with the Sepoy Mutiny in 1857  but It ended with Indian  independence from British rule on August 15 1947.'\n",
    "print(separate_numbers_and_their_positions(sample_text))"
   ]
  },
  {
   "cell_type": "markdown",
   "id": "e975d34e",
   "metadata": {},
   "source": [
    "Question 22- Write a regular expression in python program to extract maximum/largest numeric value from a string."
   ]
  },
  {
   "cell_type": "code",
   "execution_count": 40,
   "id": "5bb31362",
   "metadata": {},
   "outputs": [
    {
     "name": "stdout",
     "output_type": "stream",
     "text": [
      "950\n"
     ]
    }
   ],
   "source": [
    "def extract_maximum_number(sample_text):\n",
    "    numbers = list(map(int, re.findall(r'\\d+', sample_text)))\n",
    "    return max(numbers) if numbers else None\n",
    "\n",
    "sample_text = 'My marks in each semester are: 947 896 926 524 734 950 642'\n",
    "print(extract_maximum_number(sample_text))"
   ]
  },
  {
   "cell_type": "markdown",
   "id": "380451a3",
   "metadata": {},
   "source": [
    "Question 23- Create a function in python to insert spaces between words starting with capital letters."
   ]
  },
  {
   "cell_type": "code",
   "execution_count": 41,
   "id": "5b0ae284",
   "metadata": {},
   "outputs": [
    {
     "name": "stdout",
     "output_type": "stream",
     "text": [
      "Regular Expression Is An Important Topic In Python\n"
     ]
    }
   ],
   "source": [
    "def insert_spaces_between_capital_letters(sample_text):\n",
    "    return re.sub(r'([A-Z])', r' \\1', sample_text).strip()\n",
    "\n",
    "sample_text = \"RegularExpressionIsAnImportantTopicInPython\"\n",
    "print(insert_spaces_between_capital_letters(sample_text))"
   ]
  },
  {
   "cell_type": "markdown",
   "id": "cba5c1ac",
   "metadata": {},
   "source": [
    "Question 24- Python regex to find sequences of one upper case letter followed by lower case letters\n"
   ]
  },
  {
   "cell_type": "code",
   "execution_count": 42,
   "id": "416fe57d",
   "metadata": {},
   "outputs": [
    {
     "name": "stdout",
     "output_type": "stream",
     "text": [
      "['Regular', 'Expressions', 'Are', 'Fun']\n"
     ]
    }
   ],
   "source": [
    "def find_sequences_of_upper_and_lower_case(sample_text):\n",
    "    pattern = re.compile(r'[A-Z][a-z]+')\n",
    "    return pattern.findall(sample_text)\n",
    "\n",
    "sample_text = \"RegularExpressionsAreFun\"\n",
    "print(find_sequences_of_upper_and_lower_case(sample_text))"
   ]
  },
  {
   "cell_type": "markdown",
   "id": "4bd878d9",
   "metadata": {},
   "source": [
    "Question 25- Write a Python program to remove continuous duplicate words from Sentence using Regular Expression."
   ]
  },
  {
   "cell_type": "code",
   "execution_count": 43,
   "id": "bfe8144e",
   "metadata": {},
   "outputs": [
    {
     "name": "stdout",
     "output_type": "stream",
     "text": [
      "Hello hello world\n"
     ]
    }
   ],
   "source": [
    "def remove_duplicate_words(sentence):\n",
    "    pattern = re.compile(r'\\b(\\w+)\\s+\\1\\b')\n",
    "    return pattern.sub(r'\\1', sentence)\n",
    "\n",
    "sentence = \"Hello hello world world\"\n",
    "print(remove_duplicate_words(sentence))"
   ]
  },
  {
   "cell_type": "markdown",
   "id": "91c7c8ad",
   "metadata": {},
   "source": [
    "Question 26-  Write a python program using RegEx to accept string ending with alphanumeric character."
   ]
  },
  {
   "cell_type": "code",
   "execution_count": 47,
   "id": "3d323093",
   "metadata": {},
   "outputs": [
    {
     "name": "stdout",
     "output_type": "stream",
     "text": [
      "True\n"
     ]
    }
   ],
   "source": [
    "def ends_with_alphanumeric_character(sample_text):\n",
    "    pattern = re.compile(r'[a-zA-Z0-9]$')\n",
    "    return bool(pattern.search(sample_text))\n",
    "\n",
    "sample_text = \"Divya9876\"\n",
    "print(ends_with_alphanumeric_character(sample_text))"
   ]
  },
  {
   "cell_type": "markdown",
   "id": "94b0b0e3",
   "metadata": {},
   "source": [
    "Question 27-Write a python program using RegEx to extract the hashtags."
   ]
  },
  {
   "cell_type": "code",
   "execution_count": 49,
   "id": "ea7968cf",
   "metadata": {},
   "outputs": [
    {
     "name": "stdout",
     "output_type": "stream",
     "text": [
      "['#Doltiwal', '#xyzabc', '#Demonetization']\n"
     ]
    }
   ],
   "source": [
    "def extract_hashtags(sample_text):\n",
    "    pattern = re.compile(r'#\\w+')\n",
    "    return pattern.findall(sample_text)\n",
    "\n",
    "sample_text = \"\"\"RT @kapil_kausik: #Doltiwal I mean #xyzabc is \"hurt\" by #Demonetization as the same has rendered USELESS <ed><U+00A0><U+00BD><ed><U+00B1><U+0089> \"acquired funds\" No wo\"\"\"\n",
    "print(extract_hashtags(sample_text))"
   ]
  },
  {
   "cell_type": "raw",
   "id": "ca684b02",
   "metadata": {},
   "source": [
    "Question 28- Write a python program using RegEx to remove <U+..> like symbols\n",
    "Check the below sample text, there are strange symbols something of the sort <U+..> all over the place. You need to come up with a general Regex expression that will cover all such symbols."
   ]
  },
  {
   "cell_type": "code",
   "execution_count": 50,
   "id": "475892f8",
   "metadata": {},
   "outputs": [
    {
     "name": "stdout",
     "output_type": "stream",
     "text": [
      "@Jags123456 Bharat band on 28??<ed><ed>Those who  are protesting #demonetization  are all different party leaders\n"
     ]
    }
   ],
   "source": [
    "def remove_symbols(sample_text):\n",
    "    pattern = re.compile(r'<U\\+\\w{4}>')\n",
    "    return pattern.sub('', sample_text)\n",
    "\n",
    "sample_text = \"@Jags123456 Bharat band on 28??<ed><U+00A0><U+00BD><ed><U+00B8><U+0082>Those who  are protesting #demonetization  are all different party leaders\"\n",
    "print(remove_symbols(sample_text))"
   ]
  },
  {
   "cell_type": "markdown",
   "id": "55cfaddd",
   "metadata": {},
   "source": [
    "Question 29- Write a python program to extract dates from the text stored in the text file."
   ]
  },
  {
   "cell_type": "code",
   "execution_count": 51,
   "id": "83b85451",
   "metadata": {},
   "outputs": [
    {
     "name": "stdout",
     "output_type": "stream",
     "text": [
      "['12-09-1992', '15-12-1999']\n"
     ]
    }
   ],
   "source": [
    "def extract_dates_from_file(input_file):\n",
    "    with open(input_file, 'r') as file:\n",
    "        sample_text = file.read()\n",
    "    \n",
    "    pattern = re.compile(r'\\b\\d{2}-\\d{2}-\\d{4}\\b')\n",
    "    return pattern.findall(sample_text)\n",
    "\n",
    "sample_text = \"Ron was born on 12-09-1992 and he was admitted to school 15-12-1999.\"\n",
    "with open('dates_sample.txt', 'w') as f:\n",
    "    f.write(sample_text)\n",
    "\n",
    "print(extract_dates_from_file('dates_sample.txt'))"
   ]
  },
  {
   "cell_type": "raw",
   "id": "55b730b1",
   "metadata": {},
   "source": [
    "Question 30- Create a function in python to remove all words from a string of length between 2 and 4.\n",
    "The use of the re.compile() method is mandatory."
   ]
  },
  {
   "cell_type": "code",
   "execution_count": 52,
   "id": "b3cc2ed4",
   "metadata": {},
   "outputs": [
    {
     "name": "stdout",
     "output_type": "stream",
     "text": [
      " following example creates  ArrayList  a capacity   elements. 4 elements   added   ArrayList   ArrayList  trimmed accordingly.\n"
     ]
    }
   ],
   "source": [
    "def remove_short_words_from_string(sample_string):\n",
    "    pattern = re.compile(r'\\b\\w{2,4}\\b')\n",
    "    return pattern.sub('', sample_string)\n",
    "\n",
    "sample_string = \"The following example creates an ArrayList with a capacity of 50 elements. 4 elements are then added to the ArrayList and the ArrayList is trimmed accordingly.\"\n",
    "print(remove_short_words_from_string(sample_string))"
   ]
  },
  {
   "cell_type": "code",
   "execution_count": null,
   "id": "48f066e9",
   "metadata": {},
   "outputs": [],
   "source": []
  }
 ],
 "metadata": {
  "kernelspec": {
   "display_name": "Python 3 (ipykernel)",
   "language": "python",
   "name": "python3"
  },
  "language_info": {
   "codemirror_mode": {
    "name": "ipython",
    "version": 3
   },
   "file_extension": ".py",
   "mimetype": "text/x-python",
   "name": "python",
   "nbconvert_exporter": "python",
   "pygments_lexer": "ipython3",
   "version": "3.11.5"
  }
 },
 "nbformat": 4,
 "nbformat_minor": 5
}
